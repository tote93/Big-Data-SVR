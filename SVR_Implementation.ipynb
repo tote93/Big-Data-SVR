{
  "nbformat": 4,
  "nbformat_minor": 0,
  "metadata": {
    "colab": {
      "name": "SVR_Implementation.ipynb",
      "provenance": [],
      "collapsed_sections": [],
      "toc_visible": true
    },
    "kernelspec": {
      "name": "python3",
      "display_name": "Python 3"
    },
    "language_info": {
      "codemirror_mode": {
        "name": "ipython",
        "version": 3
      },
      "file_extension": ".py",
      "mimetype": "text/x-python",
      "name": "python",
      "nbconvert_exporter": "python",
      "pygments_lexer": "ipython3",
      "version": "3.7.5-final"
    }
  },
  "cells": [
    {
      "cell_type": "code",
      "metadata": {
        "colab_type": "code",
        "id": "vrkjaul-wk2l",
        "colab": {}
      },
      "source": [
        "# Install svn package to download folder\n",
        "package = ! dpkg -s subversion | grep Status\n",
        "if \"Status: install ok installed\" not in package:\n",
        "  !sudo apt-get install subversion\n",
        "# Download dataset folders from github\n",
        "! svn checkout https://github.com/tote93/Big-Data-SVR/trunk/dataset/"
      ],
      "execution_count": 0,
      "outputs": []
    },
    {
      "cell_type": "markdown",
      "metadata": {
        "colab_type": "text",
        "id": "skgEnUU84vpL"
      },
      "source": [
        "# 1. Import the Libraries"
      ]
    },
    {
      "cell_type": "markdown",
      "metadata": {
        "colab_type": "text",
        "id": "_eLY5ZsXH0Wc"
      },
      "source": [
        "# Processing all dataset files"
      ]
    },
    {
      "cell_type": "markdown",
      "metadata": {
        "colab_type": "text",
        "id": "FcRFDejAJngW"
      },
      "source": [
        "# Load the dataset"
      ]
    },
    {
      "cell_type": "markdown",
      "metadata": {
        "colab_type": "text",
        "id": "a8j9wEzbS13h"
      },
      "source": [
        "# 3. Exploratory data quality report April Dataset\n"
      ]
    },
    {
      "cell_type": "markdown",
      "metadata": {
        "colab_type": "text",
        "id": "jQ9vSTWGgzXK"
      },
      "source": [
        "> ## 3.3. Strategies to handle different data challenges"
      ]
    },
    {
      "cell_type": "markdown",
      "metadata": {
        "colab_type": "text",
        "id": "pYEeWqmrhcnf"
      },
      "source": [
        "#### Checking for Missing Values"
      ]
    },
    {
      "cell_type": "markdown",
      "metadata": {
        "colab_type": "text",
        "id": "SE3-6TZXllUd"
      },
      "source": [
        "**Checking for outliers**"
      ]
    },
    {
      "cell_type": "markdown",
      "metadata": {
        "colab_type": "text",
        "id": "R4Dis5DrnT7f"
      },
      "source": [
        "**Handling the outliers**"
      ]
    },
    {
      "cell_type": "markdown",
      "metadata": {
        "colab_type": "text",
        "id": "U1oiKxBsiB8q"
      },
      "source": [
        "#### Preprocessing datasets\n"
      ]
    },
    {
      "cell_type": "markdown",
      "metadata": {
        "colab_type": "text",
        "id": "kOynDf2er5ra"
      },
      "source": [
        "#### Output Dataset Visualization"
      ]
    },
    {
      "cell_type": "markdown",
      "metadata": {
        "colab_type": "text",
        "id": "rHIx6urWsjCD"
      },
      "source": [
        "# SVR Parameters Optimization"
      ]
    },
    {
      "cell_type": "markdown",
      "metadata": {
        "colab_type": "text",
        "id": "LlGRUrG-t_zh"
      },
      "source": [
        "## **Parameters to optimice**\n",
        "**C (Regularisation)**: C is the penalty parameter. The higher the Penalty value the model makes fewer mistakes but it is observed that after a certain Penalty value the model is over training.\n",
        "\n",
        "**Gamma**: It defines how far influences the calculation of plausible line of separation. The higher the gamma value, only near points are considered.\n",
        "A lower gamma value, far away points are also considered.TolTolerance for stopping criterion.\n",
        "\n",
        "**epsilonfloat**: Epsilon in the epsilon-SVR model. It specifies the epsilon-tube within which no penalty is associated in the training loss function with points predicted within a distance epsilon from the actual value."
      ]
    },
    {
      "cell_type": "markdown",
      "metadata": {
        "colab_type": "text",
        "id": "ihe9QctmzDjc"
      },
      "source": [
        "## Optimizing Parameters\n"
      ]
    },
    {
      "cell_type": "markdown",
      "metadata": {
        "id": "WVu-ldGntmDa",
        "colab_type": "text"
      },
      "source": [
        "### Generate Algorithms Comparison\n"
      ]
    },
    {
      "cell_type": "markdown",
      "metadata": {
        "id": "JUBG2mt0ukYd",
        "colab_type": "text"
      },
      "source": [
        "### Testing with the whole dataset preprocesed"
      ]
    },
    {
      "cell_type": "markdown",
      "metadata": {
        "id": "gEQWQLc4cWA7",
        "colab_type": "text"
      },
      "source": [
        "### Divide dataset in train - test files and preprocess individually\n"
      ]
    },
    {
      "cell_type": "markdown",
      "metadata": {
        "id": "PI17jq2ifS3d",
        "colab_type": "text"
      },
      "source": [
        "### Now we Fit the model of previous preprocesed\n"
      ]
    }
  ]
}